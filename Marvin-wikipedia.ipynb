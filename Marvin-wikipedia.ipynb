{
 "cells": [
  {
   "cell_type": "code",
   "execution_count": 1,
   "id": "ad8a8fb9-6b66-4b43-8e5f-26ea02f75e43",
   "metadata": {
    "tags": []
   },
   "outputs": [
    {
     "name": "stderr",
     "output_type": "stream",
     "text": [
      "2023-04-21 09:54:38.918435: I tensorflow/core/platform/cpu_feature_guard.cc:182] This TensorFlow binary is optimized to use available CPU instructions in performance-critical operations.\n",
      "To enable the following instructions: AVX2 FMA, in other operations, rebuild TensorFlow with the appropriate compiler flags.\n",
      "2023-04-21 09:54:39.510743: W tensorflow/compiler/tf2tensorrt/utils/py_utils.cc:38] TF-TRT Warning: Could not find TensorRT\n"
     ]
    }
   ],
   "source": [
    "#!pip install --upgrade protobuf\n",
    "from langchain.agents import load_tools\n",
    "from langchain.agents import initialize_agent\n",
    "from langchain.agents import AgentType\n",
    "from langchain.llms import LlamaCpp, HuggingFacePipeline # On va utiliser Vigogne pour les réponses en FR\n",
    "                                    # Et ce modèle est basé sur LlamaCpp. On utilise HuggingFacePipeline pour\n",
    "                                    # les résumés des infos wikipedia\n",
    "from langchain import PromptTemplate, LLMChain\n",
    "from langchain.llms import HuggingFacePipeline\n",
    "from transformers import AutoTokenizer, AutoModelForCausalLM, pipeline, AutoModelForSeq2SeqLM\n"
   ]
  },
  {
   "cell_type": "code",
   "execution_count": 2,
   "id": "a7baf327-838d-4c0b-8bb3-5e13b557ec0a",
   "metadata": {
    "tags": []
   },
   "outputs": [],
   "source": [
    "Question=\"À quelle date TCP/IP a été créé ?\""
   ]
  },
  {
   "cell_type": "code",
   "execution_count": 3,
   "id": "ecff7722-3390-454f-9623-9a7421dd1526",
   "metadata": {},
   "outputs": [],
   "source": [
    "from langchain.utilities import WikipediaAPIWrapper\n",
    "wikipedia = WikipediaAPIWrapper()\n",
    "wikipedia.wiki_client.set_lang('fr')"
   ]
  },
  {
   "cell_type": "code",
   "execution_count": 10,
   "id": "dd06e9d5-2d43-422f-bff1-e48d18d02fec",
   "metadata": {
    "tags": []
   },
   "outputs": [],
   "source": [
    "wiki_summ=wikipedia.wiki_client.page(wikipedia.wiki_client.search(Question)[0]).summary\n",
    "#print(wiki_summ)"
   ]
  },
  {
   "cell_type": "code",
   "execution_count": 12,
   "id": "6094f65b-c836-4852-b4a2-28954f583a0e",
   "metadata": {
    "tags": []
   },
   "outputs": [],
   "source": [
    "##print(wikipedia.run('kdjhekhdc'))"
   ]
  },
  {
   "cell_type": "code",
   "execution_count": 13,
   "id": "3932ba1c-46ee-4b9b-83f2-fd9baf7851e5",
   "metadata": {
    "tags": []
   },
   "outputs": [],
   "source": [
    "\n",
    "#if wiki_summ == \"No good Wikipedia Search Result was found\":\n",
    "#    wiki_summ = \"\"\n",
    "#    template = \"\"\"{wiki_summ} {result}\n",
    "#    \"\"\"\n",
    "#    n_ctx=1000\n",
    "#    max_tokens=800\n",
    "#    llm = LlamaCpp(model_path=\"../../twitch/vigogne/llama.cpp/models/7B/ggml-model-q4_0.bin\",temperature=0.1,n_ctx=n_ctx,max_tokens=max_tokens) #,max_tokens=8100,n_ctx=8192) \n",
    "#    prompt = PromptTemplate(template=template, input_variables=[\"wiki_summ\",\"result\"])\n",
    "\n",
    "#else:\n",
    "#    template = \"\"\"\n",
    "#    Tu es un assistant expert pour répondre aux questions des gens. Sachant que {wiki_summ} et en te basant sur tes propres données,\\n\n",
    "#    Que peux-tu me dire sur {result} \n",
    "#    \"\"\"\n",
    "#    #wiki_summ=wikipedia.wiki_client.page(Question).summary\n",
    "#    n_ctx=20000\n",
    "#    max_tokens=10000\n",
    "#    prompt = PromptTemplate(template=template, input_variables=[\"wiki_summ\",\"result\"])\n",
    "#    print(prompt)\n",
    "#    llm = LlamaCpp(model_path=\"../../twitch/vigogne/llama.cpp/models/7B/ggml-model-q4_0.bin\",temperature=0.1,n_ctx=n_ctx,max_tokens=max_tokens) #,max_tokens=8100,n_ctx=8192) \n",
    "\n",
    "\n"
   ]
  },
  {
   "cell_type": "code",
   "execution_count": 14,
   "id": "01a596f1-c47f-47e1-8a73-045c19a39898",
   "metadata": {
    "tags": []
   },
   "outputs": [
    {
     "name": "stderr",
     "output_type": "stream",
     "text": [
      "Overriding torch_dtype=None with `torch_dtype=torch.float16` due to requirements of `bitsandbytes` to enable model loading in mixed int8. Either pass torch_dtype=torch.float16 or don't pass this argument at all to remove this warning.\n"
     ]
    }
   ],
   "source": [
    "from langchain.llms import HuggingFacePipeline\n",
    "from transformers import AutoTokenizer, AutoModelForCausalLM, pipeline, AutoModelForSeq2SeqLM\n",
    "\n",
    "#csebuetnlp/mT5_multilingual_XLSum ??\n",
    "model_id = 'bofenghuang/flan-t5-large-french-dialogue-summarization'\n",
    "tokenizer = AutoTokenizer.from_pretrained(model_id)\n",
    "model = AutoModelForSeq2SeqLM.from_pretrained(model_id, load_in_8bit=True,device_map='sequential')\n",
    "\n",
    "pipe = pipeline(\n",
    "    \"text2text-generation\",\n",
    "    model=model, \n",
    "    tokenizer=tokenizer, \n",
    "    max_length=1000,\n",
    "    min_length=50\n",
    ")\n",
    "\n",
    "local_llm = HuggingFacePipeline(pipeline=pipe)"
   ]
  },
  {
   "cell_type": "code",
   "execution_count": 15,
   "id": "2dc8de21-01c4-44b7-ac6f-16e2637a72a9",
   "metadata": {
    "tags": []
   },
   "outputs": [
    {
     "name": "stdout",
     "output_type": "stream",
     "text": [
      "TCP est un protocole de transport fiable, en mode connecté, documenté dans la RFC 9293 de l'IETF. TCP est situé au-dessus de IP et en correspondance à la couche transport, intermédiaire de la couche réseau et de la couche session.\n"
     ]
    }
   ],
   "source": [
    "print(local_llm(wiki_summ))"
   ]
  },
  {
   "cell_type": "code",
   "execution_count": 16,
   "id": "a0de998c-7e72-4f50-94c9-12f5b96600ef",
   "metadata": {
    "tags": []
   },
   "outputs": [
    {
     "name": "stdout",
     "output_type": "stream",
     "text": [
      "Transmission Control Protocol (littéralement, « protocole de contrôle de transmissions »), abrégé TCP, est un protocole de transport fiable, en mode connecté, documenté dans la RFC 9293 de l’IETF.\n",
      "Dans le modèle Internet, aussi appelé modèle TCP/IP, TCP est situé au-dessus de IP. Dans le modèle OSI, il correspond à la couche transport, intermédiaire de la couche réseau et de la couche session. Les applications transmettent des flux de données sur une connexion réseau. TCP découpe le flux d’octets en segments dont la taille dépend de la MTU du réseau sous-jacent (couche liaison de données).\n",
      "TCP a été développé en 1973 puis adopté pour Arpanet en 1983, remplaçant NCP (RFC 801).\n",
      "\n",
      "\n"
     ]
    }
   ],
   "source": [
    "print(wiki_summ)"
   ]
  }
 ],
 "metadata": {
  "kernelspec": {
   "display_name": "Python 3 (ipykernel)",
   "language": "python",
   "name": "python3"
  },
  "language_info": {
   "codemirror_mode": {
    "name": "ipython",
    "version": 3
   },
   "file_extension": ".py",
   "mimetype": "text/x-python",
   "name": "python",
   "nbconvert_exporter": "python",
   "pygments_lexer": "ipython3",
   "version": "3.10.6"
  }
 },
 "nbformat": 4,
 "nbformat_minor": 5
}
